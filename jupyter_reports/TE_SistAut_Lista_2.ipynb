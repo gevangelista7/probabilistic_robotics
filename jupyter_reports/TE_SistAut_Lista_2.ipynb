{
 "cells": [
  {
   "cell_type": "markdown",
   "metadata": {
    "id": "3iwWH2nfNLsT"
   },
   "source": [
    "# Sistemas Autônomos\n",
    "\n",
    "## Lista 2\n",
    "\n"
   ]
  },
  {
   "cell_type": "markdown",
   "source": [
    "## Importações e funções auxiliares.\n",
    "\n",
    "A função de prob foi reutilizada do trabalho 1. A função plot_robot_v3 retorna objetos do tipo patches para auxiliar a graficação e apresentação dos cenários. A terceira função implementa um plot auxiliar para gerar os scans.\n",
    "\n",
    "A quarta função implementa uma verificação da intersecção de dois seguimentos de reta a partir de equações de geometria analítica. Esta função retorna os as coordenadas da intersecção caso esta aconteça, caso contrário é retornado um Not a Number (np.nan).\n"
   ],
   "metadata": {
    "id": "QYdvgaDD_Mdc"
   }
  },
  {
   "cell_type": "code",
   "execution_count": null,
   "metadata": {
    "id": "vZyRt_-nsX4T"
   },
   "outputs": [],
   "source": [
    "import numpy as np\n",
    "from numpy import sin, cos, sqrt, pi, arctan2\n",
    "from scipy.stats import norm\n",
    "\n",
    "import matplotlib.pyplot as plt\n",
    "from matplotlib.patches import Polygon, Circle, Wedge, ConnectionPatch\n",
    "from matplotlib.collections import PatchCollection\n",
    "from matplotlib.lines import Line2D\n",
    "import shapely.geometry as shp\n",
    "\n",
    "\n",
    "def prob(dist, sigma):\n",
    "  p = np.exp(-.5 * dist ** 2 / sigma ** 2) / sqrt(2 * pi * sigma**2)\n",
    "  return p\n",
    "\n",
    "def plot_robot_v3(pose, radius=0.3):\n",
    "  center = (pose[0], pose[1])\n",
    "  ang = pose[2] * 180 / np.pi\n",
    "\n",
    "  circ = Circle(center, radius, fill=False, color='black', zorder=2)\n",
    "  wed = Wedge(center, radius, ang-2, ang+2, color='black', zorder=2)\n",
    "\n",
    "  return [circ, wed]\n",
    "\n",
    "def plot_scans(pose, intersections):\n",
    "  center = (pose[0], pose[1])\n",
    "  lines = []\n",
    "  for i in range(len(intersections)):\n",
    "    ray_final = intersections[i]\n",
    "    # print(ray_final)\n",
    "    lin = ConnectionPatch(center, ray_final, coordsA=\"data\",\n",
    "                          arrowstyle=\"->\", color='green')\n",
    "    lines.append(lin)\n",
    "\n",
    "  return lines\n",
    "\n",
    "\n",
    "def line_intersection(p1, p2, q1, q2):\n",
    "    x1, y1 = p1\n",
    "    x2, y2 = p2\n",
    "    x3, y3 = q1\n",
    "    x4, y4 = q2\n",
    "    # Calculate the direction vectors of the two line segments\n",
    "    dx1 = x2 - x1\n",
    "    dy1 = y2 - y1\n",
    "    dx2 = x4 - x3\n",
    "    dy2 = y4 - y3\n",
    "\n",
    "    # Calculate the determinant of the direction vectors\n",
    "    det = dx1 * dy2 - dx2 * dy1\n",
    "\n",
    "    # Check if the line segments are parallel (det == 0)\n",
    "    if det == 0:\n",
    "        return np.nan  # No intersection\n",
    "\n",
    "    # Calculate the parameters for the intersection point\n",
    "    t1 = ((x3 - x1) * dy2 - (y3 - y1) * dx2) / det\n",
    "    t2 = ((x3 - x1) * dy1 - (y3 - y1) * dx1) / det\n",
    "\n",
    "    # Check if the intersection point is within both line segments\n",
    "    if 0 <= t1 <= 1 and 0 <= t2 <= 1:\n",
    "        intersection_x = x1 + t1 * dx1\n",
    "        intersection_y = y1 + t1 * dy1\n",
    "        return intersection_x, intersection_y\n",
    "    else:\n",
    "        return np.nan  # Intersection point is outside one or both line segments\n",
    "\n"
   ]
  },
  {
   "cell_type": "markdown",
   "metadata": {
    "id": "hMUphRLDIdaZ"
   },
   "source": [
    "## Função de calibração dos parâmetros\n",
    "\n",
    "Para elaboração da função de calibração *learn_intrinsic_parameters*. O algoritmo obtém um vetor de parâmetros $ \\Theta = [z_{hit}, z_{max}, z_{short}, z_{rand}, \\sigma_{short}, \\lambda_{short} ]$ a partir de um vetor de estados $ X $ e um vetor de leituras $ Z $. Os estados são considerados apenas com uma medição sendo assim, $ z^k $ é considerado escalar. Foi considerado um sensor com fundo de escala $ max_z = 10m $.\n",
    "\n",
    " Por simplificação e considerando que o estado é unidimensional, então $ z^{k,*}_i = x_i $ de forma a dispensar o uso do * ray casting * para fins de calibração do sensor. Com estas simplificações consideradas, o efeito do mapa nas leituras não foi abordado.\n",
    "\n",
    "A função permite o ajuste do $ \\sigma_{hit} $ e do $ \\lambda_{short}$, porém são definidos como valores *default*, respectivamente, 0.1 e 1 para estes parâmetros. O critério de parada para convergência do algoritmo foi considerado $ || \\Theta - \\Theta_{prévio} || < tol  $, onde $\\Theta_{prévio} $ é o resultado da iteração anerior e tol é uma tolerancia definida na entrada da função, sendo o valor *default* igual a 0.01.  \n"
   ]
  },
  {
   "cell_type": "code",
   "execution_count": null,
   "metadata": {
    "id": "nTdOiPFFNHJW"
   },
   "outputs": [],
   "source": [
    "def learn_intrinsic_parameters(Z, X, tol=0.01, m=None,\n",
    "                               sigma0=0.1, lambda0=1, max_z=10):\n",
    "    sigma = sigma0\n",
    "    lbd = lambda0\n",
    "\n",
    "    z_hit, z_max, z_short, z_rand = .25, .25, .25, .25\n",
    "    theta = np.array((z_hit, z_max, z_short, z_rand, sigma, lbd))\n",
    "\n",
    "    err = np.inf\n",
    "    norm_Z = np.linalg.norm(Z)\n",
    "\n",
    "    e_hit = np.zeros(len(Z))\n",
    "    e_max = np.zeros(len(Z))\n",
    "    e_short = np.zeros(len(Z))\n",
    "    e_rand = np.zeros(len(Z))\n",
    "\n",
    "    chk = 0\n",
    "\n",
    "    while err > tol:\n",
    "        theta_prev = theta\n",
    "        for idx in range(len(Z)):\n",
    "            z = Z[idx]\n",
    "            x = X[idx]\n",
    "\n",
    "            # considerando ray casting perfeito z* = x\n",
    "\n",
    "            # hit e rand\n",
    "            if z < max_z:\n",
    "                eta_hit = (norm.cdf((x - max_z)**2 / sigma ** 2)) ** -1\n",
    "\n",
    "                p_hit = eta_hit * np.exp(-.5*(z - x)**2/sigma**2) / np.sqrt(2 * np.pi * sigma ** 2)\n",
    "                p_rand = 1 / max_z\n",
    "\n",
    "            else:\n",
    "                p_hit = 0\n",
    "                p_rand = 0\n",
    "\n",
    "            # short\n",
    "            if z < x:\n",
    "                eta_short = 1 / (1 - np.exp(- lbd * x))\n",
    "                p_short = eta_short * lbd * np.exp( - lbd * z)\n",
    "\n",
    "            else:\n",
    "                p_short = 0\n",
    "\n",
    "            # max\n",
    "            if z >= max_z:\n",
    "                p_max = 1\n",
    "            else:\n",
    "                p_max = 0\n",
    "\n",
    "            eta = (p_hit + p_max + p_short + p_rand)**-1\n",
    "\n",
    "            e_hit[idx] = eta * p_hit\n",
    "            e_max[idx] = eta * p_max\n",
    "            e_short[idx] = eta * p_short\n",
    "            e_rand[idx] = eta * p_rand\n",
    "\n",
    "        # norm_Z = np.linalg.norm(np.array([z_hit, z_max, z_short, z_rand]))\n",
    "\n",
    "        z_hit = norm_Z ** -1 * e_hit.sum()\n",
    "        z_max = norm_Z ** -1 * e_max.sum()\n",
    "        z_short = norm_Z ** -1 * e_short.sum()\n",
    "        z_rand = norm_Z ** -1 * e_rand.sum()\n",
    "\n",
    "        sigma = np.sqrt((e_hit * (Z - X)**2).sum() / e_hit.sum())\n",
    "        lbd = e_short.sum() / (e_short * Z).sum()\n",
    "\n",
    "        Z_all = np.array([z_hit, z_max, z_short, z_rand])\n",
    "        z_hit, z_max, z_short, z_rand = Z_all / Z_all.sum()\n",
    "\n",
    "        theta = np.array((z_hit, z_max, z_short, z_rand, sigma, lbd))\n",
    "        err = np.linalg.norm(theta - theta_prev)\n",
    "        chk = chk + 1\n",
    "        print(chk, '\\t', err, '\\t', theta)\n",
    "\n",
    "    return theta"
   ]
  },
  {
   "cell_type": "markdown",
   "metadata": {
    "id": "MBM3z2gazaH3"
   },
   "source": [
    "### Teste da função\n",
    "\n",
    "Para se obter uma população adequada para o emprego do algorigmo foi necessário implementar algumas outras funções. Foi criada uma função build_pdf que recebe os parametros zstar, maxz e o conjunto de parâmetros $\\Theta$ anteriormente descrito e responde com uma nova função da pdf de z. Foi implementado o algoritmo de *rejection_sampling*.\n",
    "\n",
    "Com estas funções foram obtidas pdf para um $\\Theta_{target} = [0.65, 0.10, 0.15, 0.10, 0.35,  1.1] $ para 22 situações diferentes em que o sensor deveria ter uma leitura entre $0$ e $10.5m$ (posições equiespaçadas neste intervalo). Para cara situação dessa fora realizadas 100 medidas de acordo com a pdf configurada através do rejection sampling. Com esta população de leituras, então o algoritmo do leaning_intrinsic_parameters foi empregado para tentar recuperar os parâmetros. Considerou-se a leitura máxima como $max_z = 10 m$.\n",
    "Com o algoritmo implementado, a partir destas 22000 amostras, em 6 iterações o algoritmo obteve $ \\Theta_{learned} = [0.6045, 0.0118, 0.1645, 0.2191, 0.3239, 1.3539] $. Desta forma, notou-se que o algoritmo recuperou valores aproximados porém com alguma dificuldade em recuperar o parâmetro $z_{max}$.\n"
   ]
  },
  {
   "cell_type": "code",
   "execution_count": null,
   "metadata": {
    "colab": {
     "base_uri": "https://localhost:8080/",
     "height": 1000
    },
    "id": "T3a63J_JzZqJ",
    "outputId": "658aaaae-ddb9-4fa8-f951-d4c8c52837e1"
   },
   "outputs": [
    {
     "output_type": "stream",
     "name": "stdout",
     "text": [
      "Sampling when robot is on x=0.0\n",
      "Sampling when robot is on x=0.5\n"
     ]
    },
    {
     "output_type": "stream",
     "name": "stderr",
     "text": [
      "<ipython-input-3-879959b36e7a>:6: RuntimeWarning: divide by zero encountered in double_scalars\n",
      "  eta_short = 1 / (1 - np.exp(- lbd * zstar))\n"
     ]
    },
    {
     "output_type": "stream",
     "name": "stdout",
     "text": [
      "Sampling when robot is on x=1.0\n",
      "Sampling when robot is on x=1.5\n",
      "Sampling when robot is on x=2.0\n",
      "Sampling when robot is on x=2.5\n",
      "Sampling when robot is on x=3.0\n",
      "Sampling when robot is on x=3.5\n",
      "Sampling when robot is on x=4.0\n",
      "Sampling when robot is on x=4.5\n",
      "Sampling when robot is on x=5.0\n",
      "Sampling when robot is on x=5.5\n",
      "Sampling when robot is on x=6.0\n",
      "Sampling when robot is on x=6.5\n",
      "Sampling when robot is on x=7.0\n",
      "Sampling when robot is on x=7.5\n",
      "Sampling when robot is on x=8.0\n",
      "Sampling when robot is on x=8.5\n",
      "Sampling when robot is on x=9.0\n",
      "Sampling when robot is on x=9.5\n",
      "Sampling when robot is on x=10.0\n",
      "Sampling when robot is on x=10.5\n",
      "begin the learning with 22000 points\n",
      "1 \t 0.4845214351471672 \t [0.55871961 0.01186229 0.19598822 0.23342988 0.28712976 0.77959469]\n",
      "2 \t 0.2426133087534404 \t [0.58471001 0.01186351 0.18192205 0.22150443 0.3080706  1.01919253]\n",
      "3 \t 0.1619620410575683 \t [0.59633194 0.01186362 0.17339788 0.21840656 0.31769014 1.18019514]\n",
      "4 \t 0.09478597525778805 \t [0.60133716 0.01186363 0.16853052 0.21826868 0.32170256 1.27463835]\n",
      "5 \t 0.051956263213974535 \t [0.60352906 0.01186363 0.16589788 0.21870943 0.32332469 1.3264543 ]\n",
      "6 \t 0.027560016661977597 \t [0.60451581 0.01186364 0.16451297 0.21910758 0.32398057 1.3539511 ]\n",
      "theta = [0.60451581 0.01186364 0.16451297 0.21910758 0.32398057 1.3539511 ]\n",
      "target= [0.65, 0.1, 0.15, 0.1, 0.35, 1.1]\n"
     ]
    },
    {
     "output_type": "display_data",
     "data": {
      "text/plain": [
       "<Figure size 640x480 with 1 Axes>"
      ],
      "image/png": "[encoded data removed]"
     },
     "metadata": {}
    }
   ],
   "source": [
    "def build_pdf(zstar, max_z, theta_params):\n",
    "    z_hit, z_max, z_short, z_rand, sigma, lbd = list(theta_params)\n",
    "\n",
    "    eta_hit = (norm.cdf(x=max_z, loc=zstar, scale=sigma) -\n",
    "               norm.cdf(x=0, loc=zstar, scale=sigma)) ** -1\n",
    "    eta_short = 1 / (1 - np.exp(- lbd * zstar))\n",
    "\n",
    "    def pdf(z):\n",
    "\n",
    "        # hit e rand\n",
    "        if z < max_z:\n",
    "\n",
    "            p_hit = eta_hit * np.exp(-.5*(z - zstar)**2/sigma**2) / np.sqrt(2 * np.pi * sigma ** 2)\n",
    "            p_rand = 1 / max_z\n",
    "\n",
    "        else:\n",
    "            p_hit = 0\n",
    "            p_rand = 0\n",
    "\n",
    "        # short\n",
    "        if z < zstar:\n",
    "            p_short = eta_short * lbd * np.exp(- lbd * z)\n",
    "\n",
    "        else:\n",
    "            p_short = 0\n",
    "\n",
    "        # max\n",
    "        if z >= max_z:\n",
    "            p_max = 1\n",
    "        else:\n",
    "            p_max = 0\n",
    "\n",
    "        p = p_hit * z_hit + p_max * z_max + \\\n",
    "            p_short * z_short + p_rand * z_rand\n",
    "\n",
    "        return p\n",
    "\n",
    "    return pdf\n",
    "\n",
    "\n",
    "def rejection_sampler(n_samples, interval, pdf):\n",
    "    min_x, max_x = interval\n",
    "\n",
    "    x = np.linspace(0, 10, 100)\n",
    "    max_p = -np.inf\n",
    "    for xi in x:\n",
    "        p = sensor_distribution(xi)\n",
    "        if p > max_p:\n",
    "            max_p = p\n",
    "\n",
    "    samples = []\n",
    "    while len(samples) < n_samples:\n",
    "        x = np.random.uniform(min_x, max_x)\n",
    "        acceptance_prob = pdf(x) / max_p\n",
    "        if acceptance_prob > np.random.uniform(0, 1):\n",
    "            samples.append(x)\n",
    "\n",
    "    return samples\n",
    "\n",
    "np.random.seed(2)\n",
    "            # z_{hit, max, short, rand}, sigma, lbd\n",
    "theta_target = [0.65, 0.10, 0.15, 0.10, 0.35,  1.1]\n",
    "max_z = 10\n",
    "\n",
    "sensor_distribution = build_pdf(zstar=5, max_z=max_z, theta_params=theta_target)\n",
    "samples_target = rejection_sampler(10000, interval=[0, max_z+.1], pdf=sensor_distribution)\n",
    "\n",
    "x_calib_list = np.linspace(0, 10.5, 22)\n",
    "\n",
    "x_calib = []\n",
    "z_sampled = []\n",
    "for x_real in x_calib_list:\n",
    "    print(f'Sampling when robot is on x={x_real}')\n",
    "\n",
    "    sensor_distribution = build_pdf(zstar=x_real, max_z=max_z, theta_params=theta_target)\n",
    "    samples = rejection_sampler(1000, interval=[0, max_z+.1], pdf=sensor_distribution)\n",
    "\n",
    "    for s in samples:\n",
    "        x_calib.append(x_real)\n",
    "        z_sampled.append(s)\n",
    "\n",
    "print(f'begin the learning with {len(x_calib)} points')\n",
    "\n",
    "x_calib = np.array(x_calib)\n",
    "z_sampled = np.array(z_sampled)\n",
    "theta = learn_intrinsic_parameters(Z=z_sampled, X=x_calib,\n",
    "                                    sigma0=0.25, lambda0=0.5, tol=0.05)\n",
    "\n",
    "print(f'theta = {theta}')\n",
    "print(f'target= {theta_target}')\n",
    "\n",
    "sensor_distribution = build_pdf(zstar=5, max_z=max_z, theta_params=theta)\n",
    "samples_learned = rejection_sampler(10000, interval=[0, max_z+.1], pdf=sensor_distribution)\n",
    "\n",
    "plt.hist(samples_target, 100, label=\"Distribuição Target\", alpha=0.5, density=True)\n",
    "plt.hist(samples_learned, 100, label=\"Distribuição Aprendida\", alpha=0.5, density=True)\n",
    "plt.title('z* = 5m')\n",
    "plt.legend()\n",
    "plt.xlabel(\"z\")\n",
    "plt.ylabel('p(z|x)')\n",
    "plt.show()\n"
   ]
  },
  {
   "cell_type": "markdown",
   "source": [
    "## Ray Casting\n",
    "\n",
    "Para implementação do ray casting inicialmente foi declarada uma classe que deve armazenar as características do mapa. Objetos desta classe possuem uma lista de obstáculos poligonais convexos. Para sua definição espera-se que o usuário defina os obstáculos por uma sequência ordenada de seus vértices.\n",
    "\n",
    "Os landmarks são armazendos em um dicionário que tem como chave seu identificador e como valor as coordenadas em tuplas.\n",
    "O último parâmetro do do construtor da classe recebe os limites da área do mapa na forma de um poligono da mesma forma que os obstáculos.\n",
    "\n",
    "Os objetos da classe tem ainda acesso a uma função que retorna objetos do tipo patch para facilitar a visualização do mapa. Os obstáculos serão apresentados em preto e os landmarks como circulos vermelhos. Por último foi implementada nesta classe uma função para indicar a ocupação ou não de um ponto no mapa.\n",
    "\n"
   ],
   "metadata": {
    "id": "AuyMXF2pqGUb"
   }
  },
  {
   "cell_type": "code",
   "source": [
    "class Map:\n",
    "    def __init__(self, obstacles, landmarks, area_limit):\n",
    "        \"\"\"\n",
    "        obstacles: deve ser uma lista de obstaculos.\n",
    "                    o obstáculo é um polígono e deve ser convexos, definidos por pontos sequenciais.\n",
    "        landmarks: é construído como um dicionário, com a key inteira e sequencial definindo como um identificador\n",
    "                    o value da entrada do dicionário deve ser uma tupla (x_i, y_i)\n",
    "        area_limit: deve ser um poligono convexo, conforme os obstacles\n",
    "        \"\"\"\n",
    "\n",
    "        self.obstacles = obstacles\n",
    "        self.landmarks = landmarks\n",
    "        self.area_limit = area_limit\n",
    "\n",
    "    def get_patches(self):\n",
    "        patches = []\n",
    "        background = Polygon(np.array(self.area_limit), color='white', zorder=-1)\n",
    "        patches.append(background)\n",
    "\n",
    "        for obs in self.obstacles:\n",
    "          pat = Polygon(np.array(obs), closed=True, color='black')\n",
    "          patches.append(pat)\n",
    "\n",
    "        for ldmk_id in self.landmarks.keys():\n",
    "          pat = Circle(np.array(self.landmarks[ldmk_id]), color='red', radius=0.5,\n",
    "                      label=ldmk_id)\n",
    "          patches.append(pat)\n",
    "\n",
    "        return patches\n",
    "\n",
    "    def point_is_occupied(self, point):\n",
    "        occupied = False\n",
    "        for obst in obstacles:\n",
    "            occupied = occupied or shp.polygon.Polygon(obst).contains(shp.Point(point))\n",
    "            if occupied:\n",
    "                break\n",
    "\n",
    "        return occupied\n",
    "\n"
   ],
   "metadata": {
    "id": "2BRVVMWox5Tf"
   },
   "execution_count": null,
   "outputs": []
  },
  {
   "cell_type": "markdown",
   "source": [
    "Para codificação do raycasting foi implementada uma função que recebe os mapa, necessariamente da classe anterior. A implementação aceita somente um xt por vez. Devem ser passados ainda as angulações de cada um dos scanners em relação a frente do robot, para isso espera-se que o usuário passe uma lista de desvios, em radianos, em relação a frente do robô. É necessário também o alcance máximo de varedura de cada feixe."
   ],
   "metadata": {
    "id": "UhiMAphKBME7"
   }
  },
  {
   "cell_type": "code",
   "source": [
    "def ray_casting(m, xt, delta_theta_sensors, max_range):\n",
    "    \"\"\"\n",
    "    m:                      mapa que implementa a classe acima.\n",
    "    xt:                     estado do robô\n",
    "    delta_theta sensors:    lista com o desvio angular de cada um dos sensores em relação a frente do robô\n",
    "    max_range:              alcance máximo dos sensores do robô\n",
    "    \"\"\"\n",
    "    assert type(m) == Map\n",
    "    x = xt[0]\n",
    "    y = xt[1]\n",
    "    theta = xt[2]\n",
    "\n",
    "    K = len(delta_theta_sensors)\n",
    "\n",
    "    z_star = np.zeros(K)\n",
    "    intersections = [[np.nan, np.nan]] * K\n",
    "\n",
    "    for k in range(K):\n",
    "        theta_k = theta + delta_theta_sensors[k]\n",
    "        ray_origin = [x, y]\n",
    "        ray_final = [x + max_range * cos(theta_k), y + max_range * sin(theta_k)]\n",
    "\n",
    "        zk = max_range\n",
    "        intersectionk = ray_final\n",
    "\n",
    "        for obstacle in m.obstacles:\n",
    "            for point_idx in range(len(obstacle)):\n",
    "                p1 = obstacle[point_idx]\n",
    "                p2 = obstacle[point_idx - 1]\n",
    "                intersection = line_intersection(ray_origin, ray_final, p1, p2)\n",
    "                if intersection is np.nan:\n",
    "                    continue\n",
    "                zk_obst = np.sqrt((x - intersection[0])**2 + (y - intersection[1])**2)\n",
    "                if zk_obst < zk:\n",
    "                    zk = zk_obst\n",
    "                    intersectionk = intersection\n",
    "\n",
    "            z_star[k] = zk\n",
    "            intersections[k] = intersectionk\n",
    "\n",
    "    return z_star, intersections\n"
   ],
   "metadata": {
    "id": "VhtwYlj9BJ1n"
   },
   "execution_count": null,
   "outputs": []
  },
  {
   "cell_type": "markdown",
   "source": [
    "Para teste do ray casting foi implementado um mapa de exemplo que foi utilizado posteriormente ao longo do trabalho. O mapa representa uma área de 20 x 20 m, com paredes o circunscrevendo. Há ainda uma pilastra retangular e dois landmarks como reprensentado na figura a seguir (saída da próxima célula de código).\n",
    "\n",
    "O robô foi colocado nas proximidades da pilastra. Sendo dotado de 6 sensores, um voltado para frente, uma para trás e dois pares simétricis situados a 30° e 45° em relação a frente do robô. Os feixes são representados graficamente pelas setas em verde.\n",
    "\n",
    "A célula a seguir responde ainda uma lista com os ângulos de com os ranges obtidos pelo algoritmos de maneira correta verificando a efetividade da função implementada."
   ],
   "metadata": {
    "id": "6mewW3XNqFyi"
   }
  },
  {
   "cell_type": "code",
   "source": [
    "obstacles = [[(0,0), (20, 0), (20, 1), (0, 1)],     # paredes\n",
    "             [(0,0), (0, 20), (1, 20), (1, 0)],\n",
    "             [(0,20), (0, 19), (20, 19), (20, 20)],\n",
    "             [(19,20), (20, 20), (20, 0), (19, 0)],\n",
    "             [(7, 2), (7, 10), (9, 10), (9, 2)]]      # pilar\n",
    "\n",
    "area_limit = [(0, 0), (0, 20), (20, 20), (20, 0)]\n",
    "\n",
    "landmarks = {1: (3, 9),\n",
    "             2: (6, 3)}\n",
    "\n",
    "example_map = Map(landmarks=landmarks, obstacles=obstacles, area_limit=area_limit)\n",
    "\n",
    "\n",
    "xt = np.array((8, 15, 1.5*pi))[:,np.newaxis]\n",
    "delta_theta_sensors = [0, pi , pi/3, -pi/3, pi/4, -pi/4]\n",
    "delta_theta_sensors = np.arange(-45, 45, 5)*pi/180\n",
    "max_range = 10\n",
    "\n",
    "zkstar, intersections = ray_casting(example_map, xt, delta_theta_sensors, max_range)\n",
    "\n",
    "print(f\"delta_theta_sensores: {np.array(delta_theta_sensors)*180/pi}\")\n",
    "print(f\"z_raycast = {zkstar}\")\n",
    "\n",
    "map_patches = example_map.get_patches()\n",
    "robot_patches = plot_robot_v3(pose = xt.T[0], radius=0.3)\n",
    "scans_patches = plot_scans(pose = xt.T[0], intersections=intersections)\n",
    "\n",
    "all_patches = map_patches + robot_patches + scans_patches\n",
    "\n",
    "fig, ax = plt.subplots()\n",
    "\n",
    "for p in all_patches:\n",
    "  ax.add_artist(p)\n",
    "\n",
    "ax.axis('square')\n",
    "ax.set_xlim((0, 20))\n",
    "ax.set_ylim((0, 20))\n",
    "\n",
    "\n",
    "plt.show()\n"
   ],
   "metadata": {
    "colab": {
     "base_uri": "https://localhost:8080/",
     "height": 470
    },
    "id": "w-UAUX7ddf9y",
    "outputId": "94f42ee8-f85f-452a-b383-f6f41fdb2315"
   },
   "execution_count": null,
   "outputs": [
    {
     "output_type": "stream",
     "name": "stdout",
     "text": [
      "delta_theta_sensores: [  0. 180.  60. -60.  45. -45.]\n",
      "z_raycast = [ 5.          4.         10.          8.08290377 10.          9.89949494]\n"
     ]
    },
    {
     "output_type": "display_data",
     "data": {
      "text/plain": [
       "<Figure size 640x480 with 1 Axes>"
      ],
      "image/png": "[encoded data removed]"
     },
     "metadata": {}
    }
   ]
  },
  {
   "cell_type": "markdown",
   "metadata": {
    "id": "kwBMHnHLTMu7"
   },
   "source": [
    "## Função *beam_range_finder_model*\n",
    "\n",
    "A função de modelo recebe as leituras realizadas pelos sensores e as posições de múltiplas amostras do mesmo robô. Portanto, todas as amostras apresentadm o mesmo $ \\Theta_{params}, \\Delta\\theta_{sensors} $ e $ max_z $, entradas da função. As entradas $X_t$ e $Z_t $ devem ser organizadas de maneira que os estados $ X = [x, y, \\theta]^T $ das amostras são dispostas lado a lado. As k leituras dos sensores de cada amostra são dispostas em colunas, ou seja $ Z_t = [z_1, z_2, ... z_K]^T $ e a organização do input segue a mesma disposição dos estados. A função recebe ainda o mapa com o qual serão realizados os cálculos do *ray cast* para cada uma das amostras.\n",
    "Para cada uma das leituras de cada uma das amostras é calculada a sua probabilidade em função da leiutura e da sua posição. Devido a independência das leituras a probabilidade conjunta das leituras.\n",
    "$q = P(Z_t | X_t, map) = ∏_{k=1}^K P(z_{t,k} | X_t, map) $\n",
    "\n",
    "O q é calculado multiplicando a cada iteração de um loop que calcula a probabilidade da leitura em função do estado e da leitura esperada considerando o ray cast com o mapa passado para função.\n"
   ]
  },
  {
   "cell_type": "code",
   "execution_count": null,
   "metadata": {
    "id": "Jy10czwhY8eQ"
   },
   "outputs": [],
   "source": [
    "def beam_range_finder_model(zt, xt, theta_params, m, delta_theta_sensors, max_z=10):\n",
    "    \"\"\"\n",
    "    inputs:\n",
    "        zt: K x S -> são tratadas S amostras. As K leituras de cada amostra são consideradas colunas dispostas lado a lado.\n",
    "        xt: 3 x S -> são tratadas S amostras. Os estados são colunas [x, y, theta].T dispostas lado a lado.\n",
    "        m: Map -> mapa do cenário conforme classe implementada.\n",
    "        theta_params: vetor de parâmetros dos sensores. com o seguinte ordernamento z_hit, z_max, z_short, z_rand, sigma_hit, lbd_short\n",
    "        max_z:  range máximo do feixe.\n",
    "\n",
    "    output:\n",
    "        q: 1 x S -> vetor com as likelihoods de cada uma das amostras considerando suas leituras.\n",
    "    \"\"\"\n",
    "\n",
    "    z_hit, z_max, z_short, z_rand, sigma, lbd = list(theta_params)\n",
    "    K_scans, n_samples = zt.shape\n",
    "    # verifica se as colunas tem o mesmo número de medidas do que de sensores.\n",
    "    assert K_scans == len(delta_theta_sensors)\n",
    "\n",
    "    # inicializa o vetor que armazena os valores de q para cada uma das amostras.\n",
    "    lklhd = np.zeros(n_samples)\n",
    "\n",
    "    # itera sobre as asmostras e extrai os x e z de cada uma delas.\n",
    "    for s_idx in range(n_samples):\n",
    "        x_i = xt[:, s_idx]\n",
    "        z_i = zt[:, s_idx]\n",
    "\n",
    "        # dado o mapa e o x é possíve descobrir o zstar com o raycasting\n",
    "        zstar, _ = ray_casting(m, x_i, delta_theta_sensors, max_range)\n",
    "\n",
    "        # q: probabilidade conjunta para amostra. será calculada em função da\n",
    "        # probabilidade conjunta das probabilidades de cada uma das leituras em\n",
    "        # função do z* esperado dado o estado hipotético e o mapa. O loop\n",
    "        # iniciado implementa o calculo da likelihood conjunta.\n",
    "        # Em cada iteração do loop é calculada o likelihood da medição e o\n",
    "        # produtório é reproduzido ao multiplicar cada uma das probs pelo q acumulado.\n",
    "        q = 1\n",
    "        for k in range(K_scans):\n",
    "            zstark = zstar[k]\n",
    "            zik = z_i[k]\n",
    "\n",
    "            eta_hit = (norm.cdf(x=max_z, loc=zstark, scale=sigma) -\n",
    "                       norm.cdf(x=0, loc=zstark, scale=sigma)) ** -1\n",
    "            eta_short = 1 / (1 - np.exp(- lbd * zstark))\n",
    "\n",
    "            # hit e rand\n",
    "            if zik < max_z:\n",
    "\n",
    "                p_hit = eta_hit * np.exp(-.5 * (zik - zstark) ** 2 / sigma ** 2) / np.sqrt(2 * np.pi * sigma ** 2)\n",
    "                p_rand = 1 / max_z\n",
    "\n",
    "            else:\n",
    "                p_hit = 0\n",
    "                p_rand = 0\n",
    "\n",
    "            # short\n",
    "            if zik < zstark:\n",
    "                p_short = eta_short * lbd * np.exp(- lbd * zik)\n",
    "\n",
    "            else:\n",
    "                p_short = 0\n",
    "\n",
    "            # max\n",
    "            if zik >= max_z:\n",
    "                p_max = 1\n",
    "            else:\n",
    "                p_max = 0\n",
    "\n",
    "            p = p_hit * z_hit + p_max * z_max + \\\n",
    "                p_short * z_short + p_rand * z_rand\n",
    "\n",
    "            q = q * p\n",
    "\n",
    "        lklhd[s_idx] = q\n",
    "\n",
    "    return lklhd"
   ]
  },
  {
   "cell_type": "markdown",
   "metadata": {
    "id": "1Uj3Q93GIRXU"
   },
   "source": [
    "### Teste da função *beam_range_finder_model*\n",
    "\n",
    "Para observação do funcionamento da função beam range finder foi utilizado o mesmo example mapa. Neste foram colocados três robôs com os estados: $[8, 15, 1.5 \\pi]^T, [8, 15, 0.5 \\pi]^T$ e $[11, 11, 0]^T$. Para os três estados foram calculadas as likelihoods pelo modelo implementado considerando as leituras exatas do primeiro modelo. Os parâmetros $\\Theta$ utilizados para o modelo do sensor foram os do modelo alvo utilizado para o teste da função de aprendizado dos parâmetros.\n",
    "\n",
    "Observa-se que a likelihood apresenta valores baixos para todos os cenários. No entanto, isso é esperado uma vez que é uma multiplicação de 5 probabilidades, uma associada a cada leitura. Observa-se ainda que a leitura do teceiro cenário é a menor, seguida do segundo cenário no qual há adequação de x e y porém não ed $ \\theta $. Por fim, o cenário correto apresenta a maior likelihood sendo igual a 5.16e-03.\n",
    "\n"
   ]
  },
  {
   "cell_type": "code",
   "execution_count": null,
   "metadata": {
    "id": "JsesuWJEUSel",
    "colab": {
     "base_uri": "https://localhost:8080/"
    },
    "outputId": "68b00869-898c-4d1b-9e9f-4cc13d9161bd"
   },
   "outputs": [
    {
     "output_type": "stream",
     "name": "stdout",
     "text": [
      "[5.15946140e-03 4.03403932e-08 1.84241134e-08]\n"
     ]
    }
   ],
   "source": [
    "delta_theta_sensors = [0, pi, pi / 3, -pi / 3, pi / 4, -pi / 4]\n",
    "theta_target = [0.65, 0.10, 0.15, 0.10, 0.35, 1.1]\n",
    "max_range = 10\n",
    "\n",
    "xt = np.array([[8,      8,      11],\n",
    "                [15,     15,     11],\n",
    "                [1.5*pi, .5*pi,  0]])\n",
    "\n",
    "zt = np.array([[5., 4., 10., 8.08290377, 10., 9.89949494],      # leitura correta do primeiro estado para cada\n",
    "                [5., 4., 10., 8.08290377, 10., 9.89949494],\n",
    "                [5., 4., 10., 8.08290377, 10., 9.89949494]]).T\n",
    "\n",
    "\n",
    "lklhds = beam_range_finder_model(zt, xt, theta_params=theta_target, m=example_map, delta_theta_sensors=delta_theta_sensors, max_z=max_range)\n",
    "\n",
    "print(lklhds)\n"
   ]
  },
  {
   "cell_type": "markdown",
   "metadata": {
    "id": "uAmitzmkUTb0"
   },
   "source": [
    "## Função *likelihood_field_range_finder_model*\n",
    "\n",
    "A função implementa o cálculo do likelihood considerando os pontos finais das leituras no mapa. Para isto as posições de cada um dos sensores em relação ao robô é levada em consideração e a partir das leiuras é feito o cálculo da posição do final do feixe e o objeto detectado no mapa. Então calcula-se a probabilidade de cada uma das leituras em função da distância desde ponto ao ponto ocupado mais próximo no mapa pela função:\n",
    "\n",
    "$ q = P(Z_t | X_t, map) = ∏_{k=1}^K P(z_{t,k} | X_t, map) = ∏_{k=1}^K (z_{hit} * prob (dist_k, \\sigma_{hit}) + z_{rand} / z_{max}) $\n",
    "\n",
    "Para fins de implementação as entras são as mesmas que a da função de modelo anterior. É adicionada somenta a variável $xy_{sens}$ que indica as posições relativas dos sensores no referêncial do robô.\n",
    "\n",
    "A implementação conta com um loop externo análogo ao da *beam_range_finder_model*. No entanto, há mudança no cálculo das probabilidades de cada uma das medição que passam a ser implementadas conforme a fórmula apresentada."
   ]
  },
  {
   "cell_type": "code",
   "execution_count": null,
   "metadata": {
    "id": "_wSaehh9ZCv0"
   },
   "outputs": [],
   "source": [
    "def likelihood_field_range_finder_model(Z_t, x_t, m, xy_sens, delta_theta_sensors, theta_params, max_z=10):\n",
    "    \"\"\"\n",
    "    inputs:\n",
    "        zt: np.array, K x 1 -> As K leituras de cada sensor são consideradas como uma coluna.\n",
    "        xt: np.array, 3 x S -> Ssão tratadas S amostras. Os estados são colunas [x, y, theta].T dispostas lado a lado.\n",
    "        xy_sens: np.array, 2 x K -> posições relativas de cada um dos sensores no referencial do corpo do robo.\n",
    "        m: Map -> mapa do cenário conforme classe implementada.\n",
    "        theta: vetor de parâmetros dos sensores. com o seguinte ordernamento z_hit, z_max, z_short, z_rand, sigma_hit, lbd_short\n",
    "        max_z:  range máximo do feixe.\n",
    "\n",
    "    output:\n",
    "        q: 1 x S -> vetor com as likelihoods de cada uma das amostras considerando suas leituras.\n",
    "    \"\"\"\n",
    "\n",
    "    z_hit, z_max, z_short, z_rand, sigma_hit, lbd = list(theta_params)\n",
    "    # zt = np.array(zt)\n",
    "    K_scans, _ = Z_t.shape\n",
    "    n_states, n_samples = xt.shape\n",
    "\n",
    "\n",
    "    # verifica se o número de leituras passado é coerente ao número de sensores na lista de delta_theta\n",
    "    assert K_scans == len(delta_theta_sensors)\n",
    "\n",
    "    # verifica se o número de posições relativas de sensores passado é coerente com o número de scans.\n",
    "    assert 2, K_scans == xy_sens.shape\n",
    "\n",
    "    # inicializa o vetor que armazena os valores de q para cada uma das amostras.\n",
    "    lklhds = np.zeros(n_samples)\n",
    "\n",
    "    # itera sobre as asmostras e extrai os x e z de cada uma delas.\n",
    "    for s_idx in range(n_samples):\n",
    "        x_i = x_t[:, s_idx]\n",
    "        z_i = Z_t[:, s_idx]\n",
    "\n",
    "        x = x_i[0]\n",
    "        y = x_i[1]\n",
    "        theta = x_i[2]\n",
    "\n",
    "        # dado o mapa e o x é possível descobrir as intersecções dos raios com\n",
    "        # areas ocupadas do mapa <xl, yl> com a função implementada para o\n",
    "        # raycasting (ausência de interseções corresponde a NaN). Considera-se\n",
    "        # uma aproximação do algoritmo proposto considerar que o <xl, yp> está\n",
    "        # na direção do raio.\n",
    "        _, intersections = ray_casting(m, x_i, delta_theta_sensors, max_range)\n",
    "\n",
    "        q = 1\n",
    "        for k in range(K_scans):\n",
    "            zk = z_i[k]\n",
    "            thetak = delta_theta_sensors[k]\n",
    "            xksens = xy_sens[0, k]\n",
    "            yksens = xy_sens[1, k]\n",
    "\n",
    "            if zk < max_range:\n",
    "                xzk = x + xksens * cos(theta) - yksens * sin(theta) + zk * cos(theta + thetak)\n",
    "                yzk = y + yksens * cos(theta) + xksens * sin(theta) + zk * sin(theta + thetak)\n",
    "\n",
    "                xl = intersections[k][0]\n",
    "                yl = intersections[k][1]\n",
    "\n",
    "                dist = sqrt((xzk - xl)**2 + (yzk - yl)**2)\n",
    "                q = q * (z_hit * prob(dist, sigma_hit) + z_rand / z_max)\n",
    "\n",
    "        lklhds[s_idx] = q\n",
    "\n",
    "    return lklhds"
   ]
  },
  {
   "cell_type": "markdown",
   "source": [
    "### Teste da Função\n",
    "Retomou-se o mapa utilizado para a realização do teste da função implmentada conforme plot da próxima célula. Para o teste são analisadas as likelihoods de quatro partículas nas mesmas posições porém a primeira recebe as leituras ideais e nas demais as leituras são contaminadas com ruídos gaussianos de diferentes $\\sigma$s.\n",
    "O range máximo foi aumentado para 12 m para reduzir os caso nos quais os ruídos retiram a leitura de fim de curso pelo ruído analisado e permite compara melhor as likelihoods considerando os ruídos."
   ],
   "metadata": {
    "id": "bLxY8cyYEaUg"
   }
  },
  {
   "cell_type": "code",
   "source": [
    "delta_theta_sensors = [0, pi, pi / 3, -pi / 3, pi / 4, -pi / 4]\n",
    "theta_target = [0.65, 0.10, 0.15, 0.10, 0.35, 1.1]\n",
    "max_range = 12\n",
    "\n",
    "xt = np.array((8, 15, 1.5 * pi))[:, np.newaxis]\n",
    "\n",
    "zt_ideal, intersections = ray_casting(example_map, xt, delta_theta_sensors, max_range)\n",
    "\n",
    "zt_ideal = np.array(zt_ideal)[:, np.newaxis]\n",
    "zt_sig01= np.random.normal(zt_ideal, 0.1)\n",
    "zt_sig05 = np.random.normal(zt_ideal, 0.5)\n",
    "zt_sig1 = np.random.normal(zt_ideal, 1)\n",
    "\n",
    "zt = [zt_ideal, zt_sig01, zt_sig05, zt_sig1]\n",
    "# xt = np.hstack((xt, xt, xt, xt))\n",
    "\n",
    "xy_sens = np.zeros((2, len(delta_theta_sensors)))\n",
    "\n",
    "lklhds = np.zeros(len(zt))\n",
    "for i in range(len(zt)):\n",
    "  lklhds[i] = likelihood_field_range_finder_model(zt[i], xt, example_map, xy_sens, delta_theta_sensors,\n",
    "                                                  theta_params=theta_target, max_z=10)\n",
    "\n",
    "print(\"Likelihoods, em ordem: sigma:\")\n",
    "print(\"sigma = [0, 0.1, 0.5 1,0]\")\n",
    "print(lklhds)\n",
    "\n",
    "\n",
    "### PLOT\n",
    "map_patches = example_map.get_patches()\n",
    "robot_patches = plot_robot_v3(pose=xt.T[0], radius=0.3)\n",
    "scans_patches = plot_scans(pose=xt.T[0], intersections=intersections)\n",
    "\n",
    "all_patches = map_patches + robot_patches + scans_patches\n",
    "\n",
    "fig, ax = plt.subplots()\n",
    "\n",
    "for p in all_patches:\n",
    "    ax.add_artist(p)\n",
    "\n",
    "ax.axis('square')\n",
    "ax.set_xlim((0, 20))\n",
    "ax.set_ylim((0, 20))\n",
    "plt. show()"
   ],
   "metadata": {
    "colab": {
     "base_uri": "https://localhost:8080/",
     "height": 487
    },
    "id": "_Q8l7VAbEaux",
    "outputId": "ed7be7a3-f244-4c94-f86d-43e52e2e549b"
   },
   "execution_count": null,
   "outputs": [
    {
     "output_type": "stream",
     "name": "stdout",
     "text": [
      "Likelihoods, em ordem: sigma:\n",
      "sigma = [0, 0.1, 0.5 1,0]\n",
      "[9.18518955 8.86745061 7.82350514 4.01882503]\n"
     ]
    },
    {
     "output_type": "display_data",
     "data": {
      "text/plain": [
       "<Figure size 640x480 with 1 Axes>"
      ],
      "image/png": "[encoded data removed]"
     },
     "metadata": {}
    }
   ]
  },
  {
   "cell_type": "markdown",
   "source": [
    "## Função *landmark_model_known_correspondence*\n",
    "\n",
    "Função dedicada a retornar as likelihoods a partir do mapa e um ângulo e distância conhecidos de um landmark. A função inicia realizando um lookup em seu mapa para obter as coordenadas do landmark. Dada a leitura passada e a posição do landmark conhecido, cada uma das amostras passadas pelo parâmetro xt é verificada e tem sua likelihood conjunta computada em função das incertezas de leituras passadas no parâmetro sigmas.\n",
    "A função retorna um vetor com as likelihoods de cada da uma das amostras, com o mesmo indice da coluna correspondente em xt."
   ],
   "metadata": {
    "id": "Gj_zAorgeMop"
   }
  },
  {
   "cell_type": "code",
   "execution_count": null,
   "metadata": {
    "id": "iodGj-uVNCMC"
   },
   "outputs": [],
   "source": [
    "def landmark_model_known_correspondence(fit, cit, xt, m, sigmas):\n",
    "    \"\"\"\n",
    "    inputs:\n",
    "        cit: int -> indice do landmark no mapa.\n",
    "        xt: 3 x S -: São tratadas S amostras. Cada uma correspondente a uma coluna [x, y, theta]^T.\n",
    "        fit: 3 x 1 -> A leitura do landmark corresponde a colunas [r, phi, s].T.\n",
    "        sigmas: 3 x 1 -> são obtidas os desvios padrão para cada uma das medições relativas dos landmarks.\n",
    "        m: Map -> mapa do cenário conforme classe implementada.\n",
    "\n",
    "    output:\n",
    "        q: 1 x S -> vetor com as likelihoods de cada uma das amostras considerando a leitura realizada.\n",
    "    \"\"\"\n",
    "    assert type(m) == Map\n",
    "    mjx, mjy = m.landmarks[cit]       # lookup da posição do landmark no map\n",
    "\n",
    "    x = xt[0, :]                        # estado hipotético do robô\n",
    "    y = xt[1, :]\n",
    "    theta = xt[2, :]\n",
    "\n",
    "    rit = fit[0]\n",
    "    phiit = fit[1]\n",
    "    # sit = fit[2]                    # não utlizado -> considerando a leitura perfeita dos atributos.\n",
    "\n",
    "    sigma_r = sigmas[0]               # obtenção variância de r e phi\n",
    "    sigma_phi = sigmas[1]\n",
    "    # sigma_s = sigmas[2]             # não utlizado -> considerando a leitura perfeita dos atributos.\n",
    "\n",
    "    rhat = sqrt((mjx - x)**2 + (mjy - y)**2)\n",
    "    phihat = arctan2(mjy - y, mjx - x) - theta\n",
    "\n",
    "    q = prob(abs(rit - rhat), sigma_r) * prob(abs(phiit - phihat), sigma_phi)\n",
    "\n",
    "    return q\n"
   ]
  },
  {
   "cell_type": "markdown",
   "source": [
    "### Teste da função\n",
    "\n",
    "Para teste da função foi criada uma leitura do sensor indicando que o landmark estava a 6m do robot com um azimute de -π/2. Então, foram criadas três amostras de robots na variável $x_t$. As duas primeira se encontram na mesma posição com a distância adequada porém a primeira apresenta a posição coerente com a leitura do azimute e a segunda não. A terceira amostra consiste em um teste de sanidade e encontra-se em outro ponto diferente do mapa.\n",
    "\n",
    "A célula retora uma ilustração das amostras e também o likelihood delas na ordem que são dispostas no $x_t$. A primeira amostra apresenta o maior likelihood coerente com a sua adequação a leitura informada. A segunda amostra, apresenta a parcela da likelihood associada a distância correta, e portanto, o segundo maior retorno da função. A terceira por sua vez apresenta o menor valor, coerente com sua posição muito descorrelacionada a leitura."
   ],
   "metadata": {
    "id": "P1QjDyYBzdeH"
   }
  },
  {
   "cell_type": "code",
   "source": [
    "xt = np.array([[3,          3,      10],\n",
    "                [15,        15,     15],\n",
    "                [0,         pi/2,  -pi/2]])\n",
    "\n",
    "fit = np.array([[6, ],\n",
    "                [-.5 * pi, ]])\n",
    "\n",
    "sigmas = np.array([0.1, 0.1])\n",
    "\n",
    "n_samples = len(xt[0])\n",
    "cit = 1\n",
    "q = landmark_model_known_correspondence(fit, cit, xt, m=example_map, sigmas=sigmas)\n",
    "\n",
    "print(\"likelihoods das amostras:\")\n",
    "print(q)\n",
    "\n",
    "map_patches = example_map.get_patches()\n",
    "robot_patches = []\n",
    "for i in range(len(xt.T)):\n",
    "    robot_patches += plot_robot_v3(pose=xt.T[i], radius=0.3)\n",
    "\n",
    "all_patches = map_patches + robot_patches\n",
    "\n",
    "fig, ax = plt.subplots()\n",
    "\n",
    "for p in all_patches:\n",
    "    ax.add_artist(p)\n",
    "\n",
    "ax.axis('square')\n",
    "ax.set_xlim((0, 20))\n",
    "ax.set_ylim((0, 20))\n",
    "plt.show()"
   ],
   "metadata": {
    "id": "gKC-Bitnzc8d"
   },
   "execution_count": null,
   "outputs": []
  },
  {
   "cell_type": "markdown",
   "source": [
    "## Função *sample_landmark_model_known_correspondence*\n",
    "\n",
    "A função retorna uma amostra de acordo com leitura da posição relativa de um landmark conhecido.\n",
    "\n",
    "A função realiza no máximo 1000 tentativas de colocação de acordo com o algoritmo proposto verificando se o ponto (x, y) da amostra corresponde a um ponto desocupado no mapa."
   ],
   "metadata": {
    "id": "Tz9i15Zjzf7r"
   }
  },
  {
   "cell_type": "code",
   "execution_count": null,
   "metadata": {
    "id": "A6MMoxs-ZL8O"
   },
   "outputs": [],
   "source": [
    "def sample_landmark_model_known_correspondence(fit, cit, m, sigmas):\n",
    "    \"\"\"\n",
    "    inputs:\n",
    "        cit: int -> indice do landmark no mapa.\n",
    "        fit: np.array or list, 3 x 1 -> As leituras do landmark corresponde a coluna [r, phi, s].\n",
    "        sigmas: np.array or list, 3 x 1 -> são obtidas os desvios padrão para cada uma das medições relativas dos landmarks.\n",
    "        m: Map -> mapa do cenário conforme classe implementada.\n",
    "\n",
    "    output:\n",
    "        x_sample: 3 x 1 -> um estadod o tipo [x, y, theta]^T em posição não ocupada do mapa.\n",
    "    \"\"\"\n",
    "\n",
    "    assert type(m) == Map\n",
    "    mjx, mjy = m.landmarks[cit]       # lookup da posição do landmark no map\n",
    "\n",
    "    rit = fit[0]\n",
    "    phiit = fit[1]\n",
    "    sit = fit[2]                # não utlizado -> considerando a leitura perfeita dos atributos.\n",
    "\n",
    "    sigma_r = sigmas[0]         # obtenção variância de r e phi\n",
    "    sigma_phi = sigmas[1]\n",
    "    sigma_s = sigmas[2]         # não utlizado -> considerando a leitura perfeita dos atributos.\n",
    "\n",
    "    watchdog = 0\n",
    "    while True:\n",
    "        watchdog += 1\n",
    "        gammahat = np.random.uniform(0, 2 * pi)\n",
    "        rhat = rit + np.random.normal(0, sigma_r)\n",
    "        phihat = phiit + np.random.normal(0, sigma_phi)\n",
    "\n",
    "        x = mjx + rhat * cos(gammahat)  # estado da amostra\n",
    "        y = mjy + rhat * sin(gammahat)\n",
    "\n",
    "        if not m.point_is_occupied((x, y)):\n",
    "            break\n",
    "\n",
    "        if watchdog == 1000:\n",
    "            print(\"exceeded the number of tries\")\n",
    "            break\n",
    "\n",
    "    theta = gammahat - pi - phihat\n",
    "\n",
    "    x_sample = np.array((x, y, theta))[:, np.newaxis]\n",
    "    return x_sample"
   ]
  },
  {
   "cell_type": "code",
   "execution_count": null,
   "metadata": {
    "id": "MI7iBXaNZQGs"
   },
   "outputs": [],
   "source": [
    "fit = np.array([5, pi/2, 0])\n",
    "cit = 1\n",
    "sigmas = [0.1, 0.1, 0]\n",
    "\n",
    "samples = []\n",
    "while len(samples) < 30:\n",
    "    samples.append(sample_landmark_model_known_correspondence(fit, cit, m=example_map, sigmas=sigmas))\n",
    "\n",
    "robot_patches = []\n",
    "for robot in samples:\n",
    "    robot_patches += plot_robot_v3(pose=robot.T[0])\n",
    "\n",
    "map_patches = example_map.get_patches()\n",
    "\n",
    "fig, ax = plt.subplots()\n",
    "plt.figure(figsize=(10,6))\n",
    "\n",
    "for p in map_patches + robot_patches:\n",
    "    ax.add_artist(p)\n",
    "\n",
    "ax.axis('square')\n",
    "ax.set_xlim((0, 20))\n",
    "ax.set_ylim((0, 20))\n",
    "\n",
    "plt.show()"
   ]
  },
  {
   "cell_type": "markdown",
   "source": [
    "# código pro ray casting"
   ],
   "metadata": {
    "id": "C1fGJe-mV38s"
   }
  },
  {
   "cell_type": "code",
   "source": [
    "# import numpy as np\n",
    "# import matplotlib.pyplot as plt\n",
    "# import math\n",
    "# from numpy import cos, sin, pi, sqrt, arctan2, array, cov, random, shape\n",
    "# from matplotlib import colors"
   ],
   "metadata": {
    "id": "pGuEJKG5V67R"
   },
   "execution_count": null,
   "outputs": []
  },
  {
   "cell_type": "code",
   "source": [
    "# def plot_robo(pose, radius):\n",
    "#     span = np.linspace(0, 2*pi, 360)\n",
    "\n",
    "#     for i in range(shape(pose)[1]):\n",
    "#         a = radius*cos(span) + pose[0,i]\n",
    "#         b = radius*sin(span) + pose[1,i]\n",
    "#         plt.plot(a,b, 'black')\n",
    "#         plt.grid(True)\n",
    "\n",
    "#         endx = pose[0,i] + radius * math.cos(math.radians(pose[2,i]))\n",
    "#         endy = pose[1,i] + radius * math.sin(math.radians(pose[2,i]))\n",
    "#         plt.plot([pose[0,i], endx], [pose[1,i], endy], 'black')\n",
    "\n",
    "\n",
    "# def to_pixels(pose_meters, res):\n",
    "#     position_pixels = (pose_meters[0:2]/res).astype(int)\n",
    "#     return np.vstack((position_pixels, pose_meters[2].astype(int)))\n",
    "\n",
    "\n",
    "# def to_meters(pose_pixels, res):\n",
    "#     position_meters = pose_pixels[0:2]*res\n",
    "#     return np.vstack((position_meters, pose_pixels[2]))\n",
    "\n",
    "# def ray_casting(pose, map, res, plot):\n",
    "\n",
    "#     inc = 0\n",
    "#     indx = 0\n",
    "#     indy = 0\n",
    "\n",
    "#     while map[pose[1] + indy, pose[0] + indx] == 0:\n",
    "#         inc = inc + 1\n",
    "#         indx = round(inc*cos(math.radians(pose[2])))\n",
    "#         indy = round(inc*sin(math.radians(pose[2])))\n",
    "\n",
    "#     medicao = sqrt(indx**2 + indy**2)\n",
    "#     final = [pose[0] + indx, pose[1] + indy]\n",
    "\n",
    "#     if plot ==1:\n",
    "#         x_values = [res*pose[0], res*final[0]]\n",
    "#         y_values = [res*pose[1], res*final[1]]\n",
    "#         plt.gcf()\n",
    "#         plt.plot(x_values, y_values, 'r', linestyle=\"--\")\n",
    "\n",
    "#     return res*medicao"
   ],
   "metadata": {
    "id": "RnhLuJX1V9uB"
   },
   "execution_count": null,
   "outputs": []
  },
  {
   "cell_type": "code",
   "source": [
    "# M = 121\n",
    "# x = ngp.linspace(0,6,M)\n",
    "# y = np.linspace(0,6,M)\n",
    "# res = 0.05\n",
    "# map = np.ones((M,M))\n",
    "# map[1:-1,1:-1]=0\n",
    "\n",
    "# map[0:80,60]= 1 # obstáculo 1\n",
    "# map[100, 0:60] = 1 # obstáculo 2\n",
    "\n",
    "# cmap = colors.ListedColormap(['white','black'])\n",
    "# plt.pcolor(x, y, map, cmap=cmap)\n",
    "\n",
    "# pose = array([[4],[4],[0]])\n",
    "\n",
    "# plot_robo(pose,0.2)\n",
    "# ray_casting(to_pixels(pose, res), map, res, 1)"
   ],
   "metadata": {
    "id": "DF1KGuHJWBuE"
   },
   "execution_count": null,
   "outputs": []
  }
 ],
 "metadata": {
  "colab": {
   "provenance": []
  },
  "kernelspec": {
   "display_name": "Python 3",
   "name": "python3"
  },
  "language_info": {
   "name": "python"
  }
 },
 "nbformat": 4,
 "nbformat_minor": 0
}